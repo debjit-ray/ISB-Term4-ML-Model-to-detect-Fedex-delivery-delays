{
 "cells": [
  {
   "cell_type": "markdown",
   "id": "aaf7749b",
   "metadata": {},
   "source": [
    "# Subject - Machine Learning - Supervised Learning-1\n",
    "# File - FedEx Model Building\n",
    "# Name - Debjit Ray\n",
    "# ID - 12010066\n",
    "# Batch - AMPBA 2021S "
   ]
  },
  {
   "cell_type": "markdown",
   "id": "54ed32f0",
   "metadata": {},
   "source": [
    "## Import Libraries and Read Files"
   ]
  },
  {
   "cell_type": "code",
   "execution_count": 1,
   "id": "0fd690a1",
   "metadata": {
    "ExecuteTime": {
     "end_time": "2021-06-26T17:48:48.994521Z",
     "start_time": "2021-06-26T17:48:48.456703Z"
    }
   },
   "outputs": [],
   "source": [
    "import pandas as pd\n",
    "import numpy as np"
   ]
  },
  {
   "cell_type": "code",
   "execution_count": 2,
   "id": "16603bd9",
   "metadata": {
    "ExecuteTime": {
     "end_time": "2021-06-26T17:48:51.617205Z",
     "start_time": "2021-06-26T17:48:48.995522Z"
    },
    "scrolled": true
   },
   "outputs": [],
   "source": [
    "# Considering 2 principal components covering more than 90%\n",
    "#predictors_train = pd.read_csv(\"data/preprocessed_trainSet_DF.csv\")\n",
    "#actual_train = pd.read_csv(\"data/actual_train.csv\")\n",
    "\n",
    "# Considering 8 principal components covering only 50%\n",
    "predictors_train = pd.read_csv(\"data/preprocessed_trainSet.csv\")\n",
    "actual_train = pd.read_csv(\"data/actual_trainSet.csv\")"
   ]
  },
  {
   "cell_type": "code",
   "execution_count": 3,
   "id": "d8c1508f",
   "metadata": {
    "ExecuteTime": {
     "end_time": "2021-06-26T17:48:52.499826Z",
     "start_time": "2021-06-26T17:48:51.619202Z"
    }
   },
   "outputs": [],
   "source": [
    "from sklearn.linear_model import LogisticRegression\n",
    "from sklearn.tree import DecisionTreeClassifier\n",
    "from sklearn.ensemble import RandomForestClassifier\n",
    "from sklearn.neighbors import KNeighborsClassifier\n",
    "from sklearn.discriminant_analysis import LinearDiscriminantAnalysis\n",
    "from sklearn.naive_bayes import GaussianNB\n",
    "\n",
    "from sklearn import metrics\n",
    "from sklearn.metrics import roc_curve\n",
    "from sklearn.metrics import roc_auc_score\n",
    "from sklearn.model_selection import KFold\n",
    "from sklearn.metrics import accuracy_score\n",
    "from sklearn.metrics import precision_score\n",
    "from sklearn.metrics import recall_score\n",
    "from sklearn.metrics import f1_score"
   ]
  },
  {
   "cell_type": "code",
   "execution_count": 4,
   "id": "66b23f68",
   "metadata": {
    "ExecuteTime": {
     "end_time": "2021-06-26T17:48:52.515868Z",
     "start_time": "2021-06-26T17:48:52.502817Z"
    }
   },
   "outputs": [],
   "source": [
    "def fnc_TrainModel(model, mdl_name, predictors_train, actual_train):\n",
    "    print(\"---------------------------------------------------------------\")\n",
    "    print(\"*                     {}                  *\".format(mdl_name))\n",
    "    print(\"---------------------------------------------------------------\")\n",
    "\n",
    "    # Train the model\n",
    "    model.fit(predictors_train, actual_train) #Training the model\n",
    "\n",
    "    model_prediction = model.predict(predictors_train)\n",
    "    accuracy = accuracy_score(np.array(actual_train).reshape(-1, 1), model_prediction)\n",
    "    precision = precision_score(actual_train, model_prediction)\n",
    "    recall = recall_score(actual_train, model_prediction) \n",
    "\n",
    "    print (\"Accuracy of {} is : {}\".format(mdl_name, np.round(accuracy,5)))\n",
    "    print (\"Precision of {} is : {}\".format(mdl_name, np.round(precision,5)))\n",
    "    print (\"Recall of {} is : {}\".format(mdl_name, np.round(recall,5)))\n",
    "    print(\"\\n\")"
   ]
  },
  {
   "cell_type": "code",
   "execution_count": 5,
   "id": "fd93b56a",
   "metadata": {
    "ExecuteTime": {
     "end_time": "2021-06-26T18:04:33.431341Z",
     "start_time": "2021-06-26T17:48:52.518823Z"
    },
    "scrolled": true
   },
   "outputs": [
    {
     "name": "stdout",
     "output_type": "stream",
     "text": [
      "---------------------------------------------------------------\n",
      "*                     LDA                  *\n",
      "---------------------------------------------------------------\n",
      "Accuracy of LDA is : 0.89241\n",
      "Precision of LDA is : 1.0\n",
      "Recall of LDA is : 0.47085\n",
      "\n",
      "\n",
      "---------------------------------------------------------------\n",
      "*                     Decision Tree                  *\n",
      "---------------------------------------------------------------\n",
      "Accuracy of Decision Tree is : 1.0\n",
      "Precision of Decision Tree is : 1.0\n",
      "Recall of Decision Tree is : 1.0\n",
      "\n",
      "\n",
      "---------------------------------------------------------------\n",
      "*                     Random Forest                  *\n",
      "---------------------------------------------------------------\n",
      "Accuracy of Random Forest is : 1.0\n",
      "Precision of Random Forest is : 1.0\n",
      "Recall of Random Forest is : 1.0\n",
      "\n",
      "\n",
      "---------------------------------------------------------------\n",
      "*                     Logistic Regression                  *\n",
      "---------------------------------------------------------------\n",
      "Accuracy of Logistic Regression is : 0.99533\n",
      "Precision of Logistic Regression is : 0.98933\n",
      "Recall of Logistic Regression is : 0.98768\n",
      "\n",
      "\n",
      "---------------------------------------------------------------\n",
      "*                     Naive Bayes                  *\n",
      "---------------------------------------------------------------\n",
      "Accuracy of Naive Bayes is : 0.96034\n",
      "Precision of Naive Bayes is : 0.9547\n",
      "Recall of Naive Bayes is : 0.84506\n",
      "\n",
      "\n",
      "---------------------------------------------------------------\n",
      "*                     K Nearest Neighbours                  *\n",
      "---------------------------------------------------------------\n",
      "Accuracy of K Nearest Neighbours is : 0.99548\n",
      "Precision of K Nearest Neighbours is : 0.99267\n",
      "Recall of K Nearest Neighbours is : 0.98504\n",
      "\n",
      "\n"
     ]
    }
   ],
   "source": [
    "# Define all the models - This first set is going to work on only the selected features\n",
    "lda_mdl = LinearDiscriminantAnalysis()\n",
    "dt_mdl = DecisionTreeClassifier(random_state = 5)\n",
    "rf_mdl = RandomForestClassifier(random_state = 5)\n",
    "lr_mdl = LogisticRegression(random_state = 5)\n",
    "nb_mdl= GaussianNB()\n",
    "knn_mdl = KNeighborsClassifier()\n",
    "\n",
    "model_list = [(lda_mdl, \"LDA\"), \n",
    "              (dt_mdl, \"Decision Tree\"), \n",
    "              (rf_mdl, \"Random Forest\"), \n",
    "              (lr_mdl, \"Logistic Regression\"), \n",
    "              (nb_mdl, \"Naive Bayes\"), \n",
    "              (knn_mdl, \"K Nearest Neighbours\")]\n",
    "\n",
    "for (eachModel, mdl_name) in model_list:\n",
    "    fnc_TrainModel(eachModel, mdl_name, predictors_train, actual_train.values.ravel())"
   ]
  },
  {
   "cell_type": "code",
   "execution_count": 6,
   "id": "ccafb47e",
   "metadata": {
    "ExecuteTime": {
     "end_time": "2021-06-26T18:04:33.451758Z",
     "start_time": "2021-06-26T18:04:33.432973Z"
    }
   },
   "outputs": [],
   "source": [
    "def fncCalcPerformance(model, X, Y):\n",
    "    model_prediction = model.predict(X)    \n",
    "    accuracy = np.round(accuracy_score(Y, model_prediction),5)\n",
    "    # Calculate precision, recall, true positive rate, false positive rate and AUC for different models        \n",
    "    precision = np.round(precision_score(Y, model_prediction),5)\n",
    "    recall = np.round(recall_score(Y, model_prediction),5)        \n",
    "    model_prediction_prob = model.predict_proba(X)[::,1]\n",
    "    fpr, tpr, _ = roc_curve(Y, model_prediction_prob)\n",
    "    auc = roc_auc_score(Y, model_prediction_prob)\n",
    "    cm = metrics.confusion_matrix(Y, model_prediction)\n",
    "    f1 = np.round(f1_score(Y, model_prediction),5)\n",
    "    return(accuracy, precision, recall, fpr, tpr, auc, cm, f1)"
   ]
  },
  {
   "cell_type": "code",
   "execution_count": 7,
   "id": "293f52a4",
   "metadata": {
    "ExecuteTime": {
     "end_time": "2021-06-26T18:04:34.586673Z",
     "start_time": "2021-06-26T18:04:33.451758Z"
    }
   },
   "outputs": [],
   "source": [
    "# Read the transformed validation dataset\n",
    "predictors_val = pd.read_csv(\"data/preprocessed_valSet.csv\")\n",
    "actual_val = pd.read_csv(\"data/actual_valSet.csv\")"
   ]
  },
  {
   "cell_type": "code",
   "execution_count": 8,
   "id": "a92bef28",
   "metadata": {
    "ExecuteTime": {
     "end_time": "2021-06-26T18:04:34.617926Z",
     "start_time": "2021-06-26T18:04:34.586673Z"
    }
   },
   "outputs": [
    {
     "data": {
      "text/plain": [
       "(739655, 8)"
      ]
     },
     "execution_count": 8,
     "metadata": {},
     "output_type": "execute_result"
    }
   ],
   "source": [
    "predictors_val.shape"
   ]
  },
  {
   "cell_type": "code",
   "execution_count": 9,
   "id": "66f089ff",
   "metadata": {
    "ExecuteTime": {
     "end_time": "2021-06-26T18:04:34.633887Z",
     "start_time": "2021-06-26T18:04:34.618894Z"
    }
   },
   "outputs": [
    {
     "data": {
      "text/plain": [
       "(739655, 1)"
      ]
     },
     "execution_count": 9,
     "metadata": {},
     "output_type": "execute_result"
    }
   ],
   "source": [
    "actual_val.shape"
   ]
  },
  {
   "cell_type": "code",
   "execution_count": 10,
   "id": "cd694de1",
   "metadata": {
    "ExecuteTime": {
     "end_time": "2021-06-26T18:07:06.095425Z",
     "start_time": "2021-06-26T18:04:34.634851Z"
    }
   },
   "outputs": [
    {
     "name": "stdout",
     "output_type": "stream",
     "text": [
      "LDA\n",
      "Decision Tree\n",
      "Random Forest\n",
      "Logistic Regression\n",
      "Naive Bayes\n",
      "K Nearest Neighbours\n"
     ]
    }
   ],
   "source": [
    "score_list = []\n",
    "model_scores = pd.DataFrame(columns = ['setName','ModelName', 'Accuracy','Precision','Recall','confmatrix_TN','confmatrix_FP','confmatrix_FN','confmatrix_TP','fpr','tpr','auc', 'f1'])\n",
    "\n",
    "for (model, mdl_name) in (model_list):\n",
    "    print(mdl_name)\n",
    "    dict1 = {}\n",
    "    accuracy, precision, recall, fpr, tpr, auc, cm, f1  = fncCalcPerformance(model, predictors_val, actual_val.values.ravel())\n",
    "    dict1.update({'setName': 'Validation',\n",
    "                  'ModelName': mdl_name,\n",
    "                  'Accuracy': accuracy,\n",
    "                  'Precision': precision,\n",
    "                  'Recall': recall,\n",
    "                  'confmatrix_TN': cm[0,0],\n",
    "                  'confmatrix_FP': cm[0,1],\n",
    "                  'confmatrix_FN': cm[1,0],\n",
    "                  'confmatrix_TP': cm[1,1],\n",
    "                  'fpr': [fpr],\n",
    "                  'tpr': [tpr],\n",
    "                  'auc': auc,\n",
    "                  'f1': f1\n",
    "                 })\n",
    "\n",
    "    score_list.append(dict1)\n",
    "model_scores = model_scores.append(score_list, ignore_index= True)"
   ]
  },
  {
   "cell_type": "markdown",
   "id": "1a895c4d",
   "metadata": {},
   "source": [
    "#### For the current problem statement, predicting a delay in Delivery when there is no delay is less costly, than predicting no Delay when there is a delay. In other words, False Negative is more costly than False Positives. \n",
    "#### With the same argument, the Recall has more significance than Precision."
   ]
  },
  {
   "cell_type": "code",
   "execution_count": 11,
   "id": "ea31c65c",
   "metadata": {
    "ExecuteTime": {
     "end_time": "2021-06-26T18:07:06.139387Z",
     "start_time": "2021-06-26T18:07:06.098974Z"
    }
   },
   "outputs": [
    {
     "data": {
      "text/html": [
       "<div>\n",
       "<style scoped>\n",
       "    .dataframe tbody tr th:only-of-type {\n",
       "        vertical-align: middle;\n",
       "    }\n",
       "\n",
       "    .dataframe tbody tr th {\n",
       "        vertical-align: top;\n",
       "    }\n",
       "\n",
       "    .dataframe thead th {\n",
       "        text-align: right;\n",
       "    }\n",
       "</style>\n",
       "<table border=\"1\" class=\"dataframe\">\n",
       "  <thead>\n",
       "    <tr style=\"text-align: right;\">\n",
       "      <th></th>\n",
       "      <th>setName</th>\n",
       "      <th>ModelName</th>\n",
       "      <th>Accuracy</th>\n",
       "      <th>Precision</th>\n",
       "      <th>Recall</th>\n",
       "      <th>confmatrix_TN</th>\n",
       "      <th>confmatrix_FP</th>\n",
       "      <th>confmatrix_FN</th>\n",
       "      <th>confmatrix_TP</th>\n",
       "      <th>auc</th>\n",
       "      <th>f1</th>\n",
       "    </tr>\n",
       "  </thead>\n",
       "  <tbody>\n",
       "    <tr>\n",
       "      <th>2</th>\n",
       "      <td>Validation</td>\n",
       "      <td>Random Forest</td>\n",
       "      <td>0.99637</td>\n",
       "      <td>0.99198</td>\n",
       "      <td>0.99025</td>\n",
       "      <td>587203</td>\n",
       "      <td>1211</td>\n",
       "      <td>1474</td>\n",
       "      <td>149767</td>\n",
       "      <td>0.999928</td>\n",
       "      <td>0.99112</td>\n",
       "    </tr>\n",
       "    <tr>\n",
       "      <th>3</th>\n",
       "      <td>Validation</td>\n",
       "      <td>Logistic Regression</td>\n",
       "      <td>0.99525</td>\n",
       "      <td>0.98911</td>\n",
       "      <td>0.98766</td>\n",
       "      <td>586770</td>\n",
       "      <td>1644</td>\n",
       "      <td>1866</td>\n",
       "      <td>149375</td>\n",
       "      <td>0.999890</td>\n",
       "      <td>0.98839</td>\n",
       "    </tr>\n",
       "    <tr>\n",
       "      <th>1</th>\n",
       "      <td>Validation</td>\n",
       "      <td>Decision Tree</td>\n",
       "      <td>0.99472</td>\n",
       "      <td>0.98747</td>\n",
       "      <td>0.98669</td>\n",
       "      <td>586520</td>\n",
       "      <td>1894</td>\n",
       "      <td>2013</td>\n",
       "      <td>149228</td>\n",
       "      <td>0.991736</td>\n",
       "      <td>0.98708</td>\n",
       "    </tr>\n",
       "    <tr>\n",
       "      <th>5</th>\n",
       "      <td>Validation</td>\n",
       "      <td>K Nearest Neighbours</td>\n",
       "      <td>0.99170</td>\n",
       "      <td>0.98633</td>\n",
       "      <td>0.97291</td>\n",
       "      <td>586374</td>\n",
       "      <td>2040</td>\n",
       "      <td>4097</td>\n",
       "      <td>147144</td>\n",
       "      <td>0.998712</td>\n",
       "      <td>0.97957</td>\n",
       "    </tr>\n",
       "    <tr>\n",
       "      <th>4</th>\n",
       "      <td>Validation</td>\n",
       "      <td>Naive Bayes</td>\n",
       "      <td>0.95984</td>\n",
       "      <td>0.95476</td>\n",
       "      <td>0.84356</td>\n",
       "      <td>582369</td>\n",
       "      <td>6045</td>\n",
       "      <td>23660</td>\n",
       "      <td>127581</td>\n",
       "      <td>0.974030</td>\n",
       "      <td>0.89572</td>\n",
       "    </tr>\n",
       "    <tr>\n",
       "      <th>0</th>\n",
       "      <td>Validation</td>\n",
       "      <td>LDA</td>\n",
       "      <td>0.89186</td>\n",
       "      <td>1.00000</td>\n",
       "      <td>0.47113</td>\n",
       "      <td>588414</td>\n",
       "      <td>0</td>\n",
       "      <td>79987</td>\n",
       "      <td>71254</td>\n",
       "      <td>0.996743</td>\n",
       "      <td>0.64050</td>\n",
       "    </tr>\n",
       "  </tbody>\n",
       "</table>\n",
       "</div>"
      ],
      "text/plain": [
       "      setName             ModelName  Accuracy  Precision   Recall  \\\n",
       "2  Validation         Random Forest   0.99637    0.99198  0.99025   \n",
       "3  Validation   Logistic Regression   0.99525    0.98911  0.98766   \n",
       "1  Validation         Decision Tree   0.99472    0.98747  0.98669   \n",
       "5  Validation  K Nearest Neighbours   0.99170    0.98633  0.97291   \n",
       "4  Validation           Naive Bayes   0.95984    0.95476  0.84356   \n",
       "0  Validation                   LDA   0.89186    1.00000  0.47113   \n",
       "\n",
       "  confmatrix_TN confmatrix_FP confmatrix_FN confmatrix_TP       auc       f1  \n",
       "2        587203          1211          1474        149767  0.999928  0.99112  \n",
       "3        586770          1644          1866        149375  0.999890  0.98839  \n",
       "1        586520          1894          2013        149228  0.991736  0.98708  \n",
       "5        586374          2040          4097        147144  0.998712  0.97957  \n",
       "4        582369          6045         23660        127581  0.974030  0.89572  \n",
       "0        588414             0         79987         71254  0.996743  0.64050  "
      ]
     },
     "execution_count": 11,
     "metadata": {},
     "output_type": "execute_result"
    }
   ],
   "source": [
    "model_scores.drop(columns=['fpr', 'tpr'], inplace=False).sort_values(by=['confmatrix_FN','Recall'], ascending= [True, False])"
   ]
  },
  {
   "cell_type": "markdown",
   "id": "73c88c5b",
   "metadata": {},
   "source": [
    "#### Based on the above validation set results, other than LDA; all other models have very high accuracy precision and recall. However, the best models are Random Forest and Logistic Regression.  Hence, we will take these forward and tune them to see which one performs better on the final test dataset."
   ]
  },
  {
   "cell_type": "markdown",
   "id": "04f4fd7c",
   "metadata": {},
   "source": [
    "# 7. Hyper parameter Tuning"
   ]
  },
  {
   "cell_type": "markdown",
   "id": "96160295",
   "metadata": {},
   "source": [
    "#### Next for the finalized models, we will perform some hyper parameter tuning to see if we can further improve the performance of the models on our original test dataset."
   ]
  },
  {
   "cell_type": "code",
   "execution_count": 12,
   "id": "55eded51",
   "metadata": {
    "ExecuteTime": {
     "end_time": "2021-06-26T11:45:14.193161Z",
     "start_time": "2021-06-26T11:45:14.181792Z"
    }
   },
   "outputs": [
    {
     "name": "stdout",
     "output_type": "stream",
     "text": [
      "Hyper parameters currently in use for Random Forest:\n",
      "\n",
      "{'bootstrap': True, 'ccp_alpha': 0.0, 'class_weight': None, 'criterion': 'gini', 'max_depth': None, 'max_features': 'auto', 'max_leaf_nodes': None, 'max_samples': None, 'min_impurity_decrease': 0.0, 'min_impurity_split': None, 'min_samples_leaf': 1, 'min_samples_split': 2, 'min_weight_fraction_leaf': 0.0, 'n_estimators': 100, 'n_jobs': None, 'oob_score': False, 'random_state': 5, 'verbose': 0, 'warm_start': False}\n"
     ]
    }
   ],
   "source": [
    "print('Hyper parameters currently in use for Random Forest:\\n')\n",
    "print(rf_mdl.get_params())"
   ]
  },
  {
   "cell_type": "code",
   "execution_count": 15,
   "id": "9809dca4",
   "metadata": {
    "ExecuteTime": {
     "end_time": "2021-06-26T15:13:36.833017Z",
     "start_time": "2021-06-26T14:11:56.322150Z"
    }
   },
   "outputs": [
    {
     "name": "stderr",
     "output_type": "stream",
     "text": [
      "C:\\Users\\HP\\anaconda3\\envs\\mlsl\\lib\\site-packages\\sklearn\\model_selection\\_search.py:925: UserWarning: One or more of the test scores are non-finite: [0.98775464 0.98650498 0.98564542 0.98434948 0.98434948 0.98434948\n",
      " 0.98772819 0.98687525 0.98598263 0.9843627  0.9843627  0.9843627\n",
      "        nan        nan        nan        nan        nan        nan\n",
      "        nan        nan        nan        nan        nan        nan]\n",
      "  category=UserWarning\n"
     ]
    },
    {
     "name": "stdout",
     "output_type": "stream",
     "text": [
      "Random Forest Best Recall: 0.987755 using {'class_weight': None, 'max_depth': 20, 'min_samples_leaf': 1, 'min_samples_split': 2}\n"
     ]
    }
   ],
   "source": [
    "from sklearn.model_selection import GridSearchCV\n",
    "from sklearn.model_selection import RepeatedStratifiedKFold\n",
    "\n",
    "# Hyper parameters for Random Forest\n",
    "depth = [20, 40]\n",
    "min_sampl_leaf = [1, 20]\n",
    "min_sampl_split = [2, 20, 40]\n",
    "class_wt = [None, {\"0\": 0.796, \"1\":0.204}] #Original distribution of data\n",
    "\n",
    "# define grid search\n",
    "grid_params = dict(max_depth = depth, class_weight = class_wt, min_samples_split = min_sampl_split, min_samples_leaf = min_sampl_leaf)\n",
    "\n",
    "rf_grid_search = GridSearchCV(estimator=rf_mdl, param_grid=grid_params, n_jobs=-1, scoring='recall')\n",
    "rf_grid_result = rf_grid_search.fit(predictors_val, actual_val.values.ravel())\n",
    "print(\"Random Forest Best Recall: %f using %s\" % (rf_grid_result.best_score_, rf_grid_result.best_params_))"
   ]
  },
  {
   "cell_type": "markdown",
   "id": "ef311cf5",
   "metadata": {},
   "source": [
    "# 8. Build and Train Final Model"
   ]
  },
  {
   "cell_type": "code",
   "execution_count": 16,
   "id": "472b2beb",
   "metadata": {
    "ExecuteTime": {
     "end_time": "2021-06-26T18:21:53.472462Z",
     "start_time": "2021-06-26T18:07:39.311503Z"
    }
   },
   "outputs": [
    {
     "name": "stdout",
     "output_type": "stream",
     "text": [
      "---------------------------------------------------------------\n",
      "*                     Random Forest                  *\n",
      "---------------------------------------------------------------\n",
      "Accuracy of Random Forest is : 0.99991\n",
      "Precision of Random Forest is : 0.99987\n",
      "Recall of Random Forest is : 0.99969\n",
      "\n",
      "\n"
     ]
    }
   ],
   "source": [
    "# Define all the models - This first set is going to work on only the selected features\n",
    "rf_final = RandomForestClassifier(random_state = 5, class_weight= None, min_samples_leaf = 1, min_samples_split = 2, max_depth = 20)\n",
    "fnc_TrainModel(rf_final, 'Random Forest', predictors_train, actual_train.values.ravel())"
   ]
  },
  {
   "cell_type": "markdown",
   "id": "bcf3aa1f",
   "metadata": {},
   "source": [
    "# 9.Test the Final Models"
   ]
  },
  {
   "cell_type": "code",
   "execution_count": 17,
   "id": "1df5857c",
   "metadata": {
    "ExecuteTime": {
     "end_time": "2021-06-26T18:21:55.262745Z",
     "start_time": "2021-06-26T18:21:53.476514Z"
    }
   },
   "outputs": [],
   "source": [
    "# Read the transformed test dataset\n",
    "predictors_test = pd.read_csv(\"data/preprocessed_testSet.csv\")\n",
    "actual_test = pd.read_csv(\"data/actual_testSet.csv\")"
   ]
  },
  {
   "cell_type": "code",
   "execution_count": 22,
   "id": "19c74f5a",
   "metadata": {
    "ExecuteTime": {
     "end_time": "2021-06-26T18:34:09.262021Z",
     "start_time": "2021-06-26T18:31:05.257968Z"
    }
   },
   "outputs": [
    {
     "name": "stdout",
     "output_type": "stream",
     "text": [
      "Random Forest\n"
     ]
    }
   ],
   "source": [
    "final_score = pd.DataFrame(columns = ['setName','ModelName', 'Accuracy','Precision','Recall','confmatrix_TN','confmatrix_FP','confmatrix_FN','confmatrix_TP','fpr','tpr','auc','f1'])\n",
    "print('Random Forest')\n",
    "dict1 = {}\n",
    "accuracy, precision, recall, fpr, tpr, auc, cm, f1  = fncCalcPerformance(model, predictors_test, actual_test.values.ravel())\n",
    "dict1.update({'setName': 'Validation',\n",
    "              'ModelName': 'Random Forest',\n",
    "              'Accuracy': accuracy,\n",
    "              'Precision': precision,\n",
    "              'Recall': recall,\n",
    "              'confmatrix_TN': cm[0,0],\n",
    "              'confmatrix_FP': cm[0,1],\n",
    "              'confmatrix_FN': cm[1,0],\n",
    "              'confmatrix_TP': cm[1,1],\n",
    "              'fpr': [fpr],\n",
    "              'tpr': [tpr],\n",
    "              'auc': auc,\n",
    "              'f1': f1})\n",
    "\n",
    "final_score = final_score.append(dict1, ignore_index= True)"
   ]
  },
  {
   "cell_type": "markdown",
   "id": "2027931b",
   "metadata": {},
   "source": [
    "### View final performance metrics"
   ]
  },
  {
   "cell_type": "code",
   "execution_count": 28,
   "id": "b28608b2",
   "metadata": {
    "ExecuteTime": {
     "end_time": "2021-06-26T18:35:57.857847Z",
     "start_time": "2021-06-26T18:35:57.836459Z"
    }
   },
   "outputs": [
    {
     "data": {
      "text/html": [
       "<div>\n",
       "<style scoped>\n",
       "    .dataframe tbody tr th:only-of-type {\n",
       "        vertical-align: middle;\n",
       "    }\n",
       "\n",
       "    .dataframe tbody tr th {\n",
       "        vertical-align: top;\n",
       "    }\n",
       "\n",
       "    .dataframe thead th {\n",
       "        text-align: right;\n",
       "    }\n",
       "</style>\n",
       "<table border=\"1\" class=\"dataframe\">\n",
       "  <thead>\n",
       "    <tr style=\"text-align: right;\">\n",
       "      <th></th>\n",
       "      <th>setName</th>\n",
       "      <th>ModelName</th>\n",
       "      <th>Accuracy</th>\n",
       "      <th>Precision</th>\n",
       "      <th>Recall</th>\n",
       "      <th>confmatrix_TN</th>\n",
       "      <th>confmatrix_FP</th>\n",
       "      <th>confmatrix_FN</th>\n",
       "      <th>confmatrix_TP</th>\n",
       "      <th>auc</th>\n",
       "      <th>f1</th>\n",
       "    </tr>\n",
       "  </thead>\n",
       "  <tbody>\n",
       "    <tr>\n",
       "      <th>0</th>\n",
       "      <td>Validation</td>\n",
       "      <td>Random Forest</td>\n",
       "      <td>0.99174</td>\n",
       "      <td>0.98606</td>\n",
       "      <td>0.97336</td>\n",
       "      <td>837747</td>\n",
       "      <td>2971</td>\n",
       "      <td>5752</td>\n",
       "      <td>210181</td>\n",
       "      <td>0.998816</td>\n",
       "      <td>0.97967</td>\n",
       "    </tr>\n",
       "  </tbody>\n",
       "</table>\n",
       "</div>"
      ],
      "text/plain": [
       "      setName      ModelName  Accuracy  Precision   Recall confmatrix_TN  \\\n",
       "0  Validation  Random Forest   0.99174    0.98606  0.97336        837747   \n",
       "\n",
       "  confmatrix_FP confmatrix_FN confmatrix_TP       auc       f1  \n",
       "0          2971          5752        210181  0.998816  0.97967  "
      ]
     },
     "execution_count": 28,
     "metadata": {},
     "output_type": "execute_result"
    }
   ],
   "source": [
    "final_score.drop(columns=['fpr', 'tpr'], inplace=False).sort_values(by=['confmatrix_FN','Recall'], ascending= [True, False])"
   ]
  },
  {
   "cell_type": "markdown",
   "id": "5af0ae25",
   "metadata": {},
   "source": [
    "## Plot ROC curve"
   ]
  },
  {
   "cell_type": "code",
   "execution_count": 29,
   "id": "4b49e100",
   "metadata": {
    "ExecuteTime": {
     "end_time": "2021-06-26T18:36:02.163433Z",
     "start_time": "2021-06-26T18:36:01.360037Z"
    },
    "scrolled": false
   },
   "outputs": [
    {
     "data": {
      "image/png": "[encoded data removed]",
      "text/plain": [
       "<Figure size 864x720 with 1 Axes>"
      ]
     },
     "metadata": {
      "needs_background": "light"
     },
     "output_type": "display_data"
    }
   ],
   "source": [
    "from matplotlib import pyplot as plt\n",
    "\n",
    "fig = plt.figure(figsize=(12,10))\n",
    "\n",
    "fpr = final_score.iloc[0]['fpr'][0]\n",
    "tpr = final_score.iloc[0]['tpr'][0]\n",
    "plt.plot(fpr, tpr, label =\"{}, AUC={:.3f}\".format(final_score.iloc[0]['ModelName'], final_score.iloc[0]['auc']))\n",
    "#plt.plot([0,1],[0,1], color = 'orange', linestyle = '--')\n",
    "plt.xticks(np.arange(0.0, 1.1, step = 0.1))\n",
    "plt.xlabel(\"False Positive Rate\", fontsize = 14)\n",
    "plt.yticks(np.arange(0.0, 1.1, step = 0.1))\n",
    "plt.ylabel(\"True Positive Rate\", fontsize = 14)\n",
    "plt.title('ROC Curve Analysis')\n",
    "plt.legend(prop={'size': 13}, loc= 'lower right')\n",
    "plt.show()"
   ]
  },
  {
   "cell_type": "code",
   "execution_count": 33,
   "id": "4c6512d5",
   "metadata": {
    "ExecuteTime": {
     "end_time": "2021-06-26T18:36:51.706908Z",
     "start_time": "2021-06-26T18:36:51.502262Z"
    }
   },
   "outputs": [
    {
     "data": {
      "text/plain": [
       "<AxesSubplot:title={'center':'Random Forest'}>"
      ]
     },
     "execution_count": 33,
     "metadata": {},
     "output_type": "execute_result"
    },
    {
     "data": {
      "text/plain": [
       "<Figure size 432x288 with 0 Axes>"
      ]
     },
     "metadata": {},
     "output_type": "display_data"
    },
    {
     "data": {
      "image/png": "[encoded data removed]",
      "text/plain": [
       "<Figure size 504x504 with 1 Axes>"
      ]
     },
     "metadata": {},
     "output_type": "display_data"
    }
   ],
   "source": [
    "import seaborn as sns\n",
    "sns.set_style('whitegrid')\n",
    "plt.figure()\n",
    "fig = plt.figure(figsize = (7,7))\n",
    "\n",
    "array = [final_score.iloc[0]['confmatrix_TN'], final_score.iloc[0]['confmatrix_FP'], \n",
    "         final_score.iloc[0]['confmatrix_FN'], final_score.iloc[0]['confmatrix_TP']]\n",
    "group_names = ['True Neg','False Pos','False Neg','True Pos']\n",
    "group_counts = ['{0:0.0f}'.format(value) for value in array]\n",
    "group_percentages = ['{0:.2%}'.format(value) for value in array/np.sum(array)]\n",
    "labels = [f'{v1}\\n{v2}\\n{v3}' for v1, v2, v3 in zip(group_names,group_counts,group_percentages)]\n",
    "labels = np.asarray(labels).reshape(2,2)\n",
    "df_cm = pd.DataFrame(np.asarray(array).reshape(2,2))\n",
    "plt.title(final_score.iloc[0]['ModelName'])\n",
    "sns.heatmap(df_cm/np.sum(df_cm), fmt = '', annot=labels, cmap= 'winter', cbar= False, linewidths=1, linecolor='white')\n"
   ]
  }
 ],
 "metadata": {
  "kernelspec": {
   "display_name": "Python 3",
   "language": "python",
   "name": "python3"
  },
  "toc": {
   "base_numbering": 1,
   "nav_menu": {},
   "number_sections": true,
   "sideBar": true,
   "skip_h1_title": false,
   "title_cell": "Table of Contents",
   "title_sidebar": "Contents",
   "toc_cell": false,
   "toc_position": {},
   "toc_section_display": true,
   "toc_window_display": false
  },
  "varInspector": {
   "cols": {
    "lenName": 16,
    "lenType": 16,
    "lenVar": 40
   },
   "kernels_config": {
    "python": {
     "delete_cmd_postfix": "",
     "delete_cmd_prefix": "del ",
     "library": "var_list.py",
     "varRefreshCmd": "print(var_dic_list())"
    },
    "r": {
     "delete_cmd_postfix": ") ",
     "delete_cmd_prefix": "rm(",
     "library": "var_list.r",
     "varRefreshCmd": "cat(var_dic_list()) "
    }
   },
   "position": {
    "height": "583px",
    "left": "1543px",
    "right": "20px",
    "top": "120px",
    "width": "357px"
   },
   "types_to_exclude": [
    "module",
    "function",
    "builtin_function_or_method",
    "instance",
    "_Feature"
   ],
   "window_display": true
  }
 },
 "nbformat": 4,
 "nbformat_minor": 5
}
